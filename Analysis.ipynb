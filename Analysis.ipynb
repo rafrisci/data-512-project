{
 "cells": [
  {
   "cell_type": "markdown",
   "id": "04ad5d18",
   "metadata": {},
   "source": [
    "# How Did Masking Policies Change the Progression of Confirmed COVID-19 Cases?\n",
    "\n",
    "This file analyzes the progression of COVID-19 cases in Mecklenburg North Carolina from February 1, 2020 through October 1, 2021. It utilizes data from [Johns Hopkins University COVID-19 data](https://www.kaggle.com/datasets/antgoldbloom/covid19-data-from-john-hopkins-university) for confirmed COVID-19 cases in the US, [CDC](https://data.cdc.gov/Policy-Surveillance/U-S-State-and-Territorial-Public-Mask-Mandates-Fro/62d6-pm5i) for masking mandates by county, and [The New York Times](https://github.com/nytimes/covid-19-data/tree/master/mask-use) for mask compliance information. These datasets can be found in the data folder of this repository.\n",
    "\n",
    "Parts of the code in this assignment are from fellow classmates. I would like to credit username Arik for the code pivoting the COVID cases data and Tharun Reddy for the ruptures package info and code snippits."
   ]
  },
  {
   "cell_type": "code",
   "execution_count": 1,
   "id": "0cde7fd9",
   "metadata": {},
   "outputs": [],
   "source": [
    "# The 'requests' module is not a standard Python module. You will need to install this with pip/pip3 if you do not already have it\n",
    "import numpy as np\n",
    "import matplotlib.patches as mpatches\n",
    "import matplotlib.pyplot as plt\n",
    "import pandas as pd\n",
    "import ruptures as rpt\n",
    "import seaborn as sns\n",
    "import datetime"
   ]
  },
  {
   "cell_type": "markdown",
   "id": "2a3685fa",
   "metadata": {},
   "source": [
    "## 1. What needs to be standardized and cleaned?\n",
    "Before the analysis can start, the data needs to be loaded and cleaned. The data is also going to be filtered for Mecklenburg, NC as that is the county of interest. The CDC datafile is too large to be uploaded into the git repository, so the below cell is the code used to limit the data to Mecklenburg, NC which is in the git repository and used for the remaining analysis."
   ]
  },
  {
   "cell_type": "code",
   "execution_count": 5,
   "id": "84d301ca",
   "metadata": {},
   "outputs": [],
   "source": [
    "cdc_too_big = pd.read_csv('data/U.S._State_and_Territorial_Public_Mask_Mandates_From_April_10__2020_through_August_15__2021_by_County_by_Day.csv')\n",
    "cdc_too_big = cdc_too_big[cdc_too_big['County_Name'].str.contains('Mecklenburg') &\n",
    "                          cdc_too_big['State_Tribe_Territory'].str.contains('NC')]\n",
    "cdc_too_big.to_csv('data/Mecklenburg_Mask_Mandates.csv')"
   ]
  },
  {
   "cell_type": "markdown",
   "id": "593849b8",
   "metadata": {},
   "source": [
    "Now onto the code that can be reproduced!"
   ]
  },
  {
   "cell_type": "code",
   "execution_count": 6,
   "id": "c73b2718",
   "metadata": {
    "scrolled": true
   },
   "outputs": [
    {
     "data": {
      "text/html": [
       "<div>\n",
       "<style scoped>\n",
       "    .dataframe tbody tr th:only-of-type {\n",
       "        vertical-align: middle;\n",
       "    }\n",
       "\n",
       "    .dataframe tbody tr th {\n",
       "        vertical-align: top;\n",
       "    }\n",
       "\n",
       "    .dataframe thead th {\n",
       "        text-align: right;\n",
       "    }\n",
       "</style>\n",
       "<table border=\"1\" class=\"dataframe\">\n",
       "  <thead>\n",
       "    <tr style=\"text-align: right;\">\n",
       "      <th></th>\n",
       "      <th>Province_State</th>\n",
       "      <th>Admin2</th>\n",
       "      <th>UID</th>\n",
       "      <th>iso2</th>\n",
       "      <th>iso3</th>\n",
       "      <th>code3</th>\n",
       "      <th>FIPS</th>\n",
       "      <th>Country_Region</th>\n",
       "      <th>Lat</th>\n",
       "      <th>Long_</th>\n",
       "      <th>...</th>\n",
       "      <th>10/21/22</th>\n",
       "      <th>10/22/22</th>\n",
       "      <th>10/23/22</th>\n",
       "      <th>10/24/22</th>\n",
       "      <th>10/25/22</th>\n",
       "      <th>10/26/22</th>\n",
       "      <th>10/27/22</th>\n",
       "      <th>10/28/22</th>\n",
       "      <th>10/29/22</th>\n",
       "      <th>10/30/22</th>\n",
       "    </tr>\n",
       "  </thead>\n",
       "  <tbody>\n",
       "    <tr>\n",
       "      <th>2025</th>\n",
       "      <td>North Carolina</td>\n",
       "      <td>Mecklenburg</td>\n",
       "      <td>84037119</td>\n",
       "      <td>US</td>\n",
       "      <td>USA</td>\n",
       "      <td>840</td>\n",
       "      <td>37119.0</td>\n",
       "      <td>US</td>\n",
       "      <td>35.244693</td>\n",
       "      <td>-80.831767</td>\n",
       "      <td>...</td>\n",
       "      <td>342023</td>\n",
       "      <td>342023</td>\n",
       "      <td>342023</td>\n",
       "      <td>342023</td>\n",
       "      <td>342023</td>\n",
       "      <td>343468</td>\n",
       "      <td>343468</td>\n",
       "      <td>343468</td>\n",
       "      <td>343468</td>\n",
       "      <td>343468</td>\n",
       "    </tr>\n",
       "    <tr>\n",
       "      <th>3089</th>\n",
       "      <td>Virginia</td>\n",
       "      <td>Mecklenburg</td>\n",
       "      <td>84051117</td>\n",
       "      <td>US</td>\n",
       "      <td>USA</td>\n",
       "      <td>840</td>\n",
       "      <td>51117.0</td>\n",
       "      <td>US</td>\n",
       "      <td>36.678820</td>\n",
       "      <td>-78.361311</td>\n",
       "      <td>...</td>\n",
       "      <td>7282</td>\n",
       "      <td>7282</td>\n",
       "      <td>7282</td>\n",
       "      <td>7286</td>\n",
       "      <td>7289</td>\n",
       "      <td>7291</td>\n",
       "      <td>7295</td>\n",
       "      <td>7298</td>\n",
       "      <td>7298</td>\n",
       "      <td>7298</td>\n",
       "    </tr>\n",
       "  </tbody>\n",
       "</table>\n",
       "<p>2 rows × 1024 columns</p>\n",
       "</div>"
      ],
      "text/plain": [
       "      Province_State       Admin2       UID iso2 iso3  code3     FIPS  \\\n",
       "2025  North Carolina  Mecklenburg  84037119   US  USA    840  37119.0   \n",
       "3089        Virginia  Mecklenburg  84051117   US  USA    840  51117.0   \n",
       "\n",
       "     Country_Region        Lat      Long_  ... 10/21/22  10/22/22  10/23/22  \\\n",
       "2025             US  35.244693 -80.831767  ...   342023    342023    342023   \n",
       "3089             US  36.678820 -78.361311  ...     7282      7282      7282   \n",
       "\n",
       "      10/24/22  10/25/22  10/26/22  10/27/22  10/28/22  10/29/22  10/30/22  \n",
       "2025    342023    342023    343468    343468    343468    343468    343468  \n",
       "3089      7286      7289      7291      7295      7298      7298      7298  \n",
       "\n",
       "[2 rows x 1024 columns]"
      ]
     },
     "execution_count": 6,
     "metadata": {},
     "output_type": "execute_result"
    }
   ],
   "source": [
    "# Load the datasets\n",
    "cov_cases = pd.read_csv('data/RAW_us_confirmed_cases.csv')\n",
    "mask_mand = pd.read_csv('data/Mecklenburg_Mask_Mandates.csv')\n",
    "mask_use = pd.read_csv('data/mask-use-by-county.csv')\n",
    "# Constant needed for population standardization. Only using the census for population as I do not know the source of the \n",
    "# July 2021 estimate.\n",
    "MECK_POP = 1115482\n",
    "# Filter the data for Mecklenburg\n",
    "cov_cases[cov_cases['Admin2'] == 'Mecklenburg']"
   ]
  },
  {
   "cell_type": "markdown",
   "id": "aa0ebe17",
   "metadata": {},
   "source": [
    "The table above shows that Mecklenburg North Carolina's FIPS is 37119, so that can be used to filter the other tables."
   ]
  },
  {
   "cell_type": "code",
   "execution_count": 39,
   "id": "6c2385d7",
   "metadata": {
    "collapsed": true
   },
   "outputs": [
    {
     "name": "stderr",
     "output_type": "stream",
     "text": [
      "C:\\Users\\Ross\\Anaconda3\\lib\\site-packages\\ipykernel_launcher.py:7: SettingWithCopyWarning: \n",
      "A value is trying to be set on a copy of a slice from a DataFrame.\n",
      "Try using .loc[row_indexer,col_indexer] = value instead\n",
      "\n",
      "See the caveats in the documentation: https://pandas.pydata.org/pandas-docs/stable/user_guide/indexing.html#returning-a-view-versus-a-copy\n",
      "  import sys\n",
      "C:\\Users\\Ross\\Anaconda3\\lib\\site-packages\\ipykernel_launcher.py:9: SettingWithCopyWarning: \n",
      "A value is trying to be set on a copy of a slice from a DataFrame.\n",
      "Try using .loc[row_indexer,col_indexer] = value instead\n",
      "\n",
      "See the caveats in the documentation: https://pandas.pydata.org/pandas-docs/stable/user_guide/indexing.html#returning-a-view-versus-a-copy\n",
      "  if __name__ == '__main__':\n",
      "C:\\Users\\Ross\\Anaconda3\\lib\\site-packages\\ipykernel_launcher.py:11: SettingWithCopyWarning: \n",
      "A value is trying to be set on a copy of a slice from a DataFrame.\n",
      "Try using .loc[row_indexer,col_indexer] = value instead\n",
      "\n",
      "See the caveats in the documentation: https://pandas.pydata.org/pandas-docs/stable/user_guide/indexing.html#returning-a-view-versus-a-copy\n",
      "  # This is added back by InteractiveShellApp.init_path()\n",
      "C:\\Users\\Ross\\Anaconda3\\lib\\site-packages\\ipykernel_launcher.py:13: SettingWithCopyWarning: \n",
      "A value is trying to be set on a copy of a slice from a DataFrame.\n",
      "Try using .loc[row_indexer,col_indexer] = value instead\n",
      "\n",
      "See the caveats in the documentation: https://pandas.pydata.org/pandas-docs/stable/user_guide/indexing.html#returning-a-view-versus-a-copy\n",
      "  del sys.path[0]\n",
      "C:\\Users\\Ross\\Anaconda3\\lib\\site-packages\\ipykernel_launcher.py:14: SettingWithCopyWarning: \n",
      "A value is trying to be set on a copy of a slice from a DataFrame.\n",
      "Try using .loc[row_indexer,col_indexer] = value instead\n",
      "\n",
      "See the caveats in the documentation: https://pandas.pydata.org/pandas-docs/stable/user_guide/indexing.html#returning-a-view-versus-a-copy\n",
      "  \n"
     ]
    }
   ],
   "source": [
    "# Mecklenburg, NC FIPS is 37119 so we will filter for that in the other files\n",
    "meck_cases = cov_cases[cov_cases['FIPS'] == 37119]\n",
    "meck_mask = mask_use[mask_use['COUNTYFP'] == 37119]\n",
    "# Transform mask mandata data to make it easier to work with\n",
    "meck_mand['prev_req'] = mask_mand['Face_Masks_Required_in_Public'].shift()\n",
    "meck_mand['Face_Masks_Required_in_Public'] = np.where(meck_mand['Face_Masks_Required_in_Public'] == 'Yes',\n",
    "                                                      1, -1)\n",
    "meck_mand['prev_req'] = np.where(meck_mand['prev_req'] == 'Yes',\n",
    "                                 1, -1)\n",
    "meck_mand['mask_needed_change'] = np.where(meck_mand['Face_Masks_Required_in_Public'] == meck_mand['prev_req'],\n",
    "                                           0, meck_mand['Face_Masks_Required_in_Public'])\n",
    "meck_mand['date'] = pd.to_datetime(meck_mand['date'])\n",
    "# The meck_cases data will serve us better by pivoting it\n",
    "meck_cases_by_date = meck_cases[meck_cases.columns[12:]]\n",
    "meck_cases_by_date = pd.DataFrame(meck_cases_by_date.iloc[0])\n",
    "meck_cases_by_date = meck_cases_by_date.reset_index()\n",
    "meck_cases_by_date.columns = ['date', 'total_cases']\n",
    "meck_cases_by_date['date'] = pd.to_datetime(meck_cases_by_date['date'])\n",
    "meck_cases_by_date['day_of_week'] = meck_cases_by_date['date'].dt.dayofweek\n",
    "# The cases column is total cases, and a daily cases column can be made from that\n",
    "meck_cases_by_date['daily_cases'] = meck_cases_by_date['total_cases'].diff()"
   ]
  },
  {
   "cell_type": "markdown",
   "id": "7a76c4b9",
   "metadata": {},
   "source": [
    "## 2. Accounting for delays in reporting and testing.\n",
    "\n",
    "To make sure that cases are reported the same weekly, as it shouldn't determine the number of COVID cases per day we will see if there are differences between days of the week with boxplots. 0=Monday and 6=Sunday."
   ]
  },
  {
   "cell_type": "code",
   "execution_count": 23,
   "id": "5e6efda9",
   "metadata": {
    "scrolled": true
   },
   "outputs": [
    {
     "data": {
      "text/plain": [
       "[Text(0, 0, 'Monday'),\n",
       " Text(1, 0, 'Tuesday'),\n",
       " Text(2, 0, 'Wednesday'),\n",
       " Text(3, 0, 'Thursday'),\n",
       " Text(4, 0, 'Friday'),\n",
       " Text(5, 0, 'Saturday'),\n",
       " Text(6, 0, 'Sunday')]"
      ]
     },
     "execution_count": 23,
     "metadata": {},
     "output_type": "execute_result"
    },
    {
     "data": {
      "image/png": "[encoded data removed]",
      "text/plain": [
       "<Figure size 432x288 with 1 Axes>"
      ]
     },
     "metadata": {
      "needs_background": "light"
     },
     "output_type": "display_data"
    }
   ],
   "source": [
    "dow_viz = sns.boxplot(x=meck_cases_by_date['day_of_week'], y=meck_cases_by_date['daily_cases'])\n",
    "dow_viz.set(title='Boxplots of COVID Cases for Days of the Week')\n",
    "dow_viz.set_ylim(0,1500)\n",
    "dow_viz.set_xticklabels(['Monday', 'Tuesday', 'Wednesday', 'Thursday', 'Friday', 'Saturday', 'Sunday'], rotation=30)"
   ]
  },
  {
   "cell_type": "markdown",
   "id": "7afefe74",
   "metadata": {},
   "source": [
    "The ranges of cases reported does seem to depend on the day of the week with Saturday and Sunday showing the lowest. As reported by [Dr. Lauren Hale](https://dearpandemic.org/covid-19-numbers-lower-on-the-weekends/#:~:text=Fewer%20patients%20get%20tested%20on,feeling%20symptoms%20on%20the%20weekend.), COVID cases reported are lower in the weekend due to less people getting tested and labs processing fewer tests on the weekend. Since this is not a real movement in COVID cases, it will be better to analyze COVID cases as a 7-day moving average where the decreases in weekend reporting will not impact only some dates. As for modeling for people delaying testing beyond averaging the daily cases over the week there is not more that can be done. There is no concrete system for knowing how people saught testing over the course of the pandemic."
   ]
  },
  {
   "cell_type": "code",
   "execution_count": 40,
   "id": "24075473",
   "metadata": {},
   "outputs": [],
   "source": [
    "# Make 7-day average column\n",
    "meck_cases_by_date['moving_avg_cases'] = meck_cases_by_date['daily_cases'].rolling(7).mean()"
   ]
  },
  {
   "cell_type": "markdown",
   "id": "b0e2f128",
   "metadata": {},
   "source": [
    "Moving back to standardization for a bit, it will be difficult to compare counties to each other due to population differences. One way to account for that is to compare per capita, but as that total will be tiny I will evaluate new cases per 100,000 residents."
   ]
  },
  {
   "cell_type": "code",
   "execution_count": 48,
   "id": "94b37d90",
   "metadata": {},
   "outputs": [],
   "source": [
    "meck_cases_by_date['moving_avg_cases'] = (meck_cases_by_date['moving_avg_cases']*100000)/MECK_POP"
   ]
  },
  {
   "cell_type": "code",
   "execution_count": 49,
   "id": "6aead815",
   "metadata": {},
   "outputs": [],
   "source": [
    "# Getting the correct date range\n",
    "meck_cases_by_date = meck_cases_by_date[(meck_cases_by_date['date']>=pd.Timestamp(2020,2,1)) &\n",
    "                                        (meck_cases_by_date['date']<=pd.Timestamp(2021,10,1))]\n",
    "meck_cases_by_date = meck_cases_by_date.set_index('date')"
   ]
  },
  {
   "cell_type": "markdown",
   "id": "b832f6cf",
   "metadata": {},
   "source": [
    "## 3. How should we consider the effect of the mask?\n",
    "\n",
    "The [CDC recommends waiting at least five days after exposure to test for COVID](https://www.cdc.gov/coronavirus/2019-ncov/symptoms-testing/testing.html). This is to ensure that the test does not provide an inaccurate result. With this in mind, masking will not immediately reduce positive cases of COVID. We shouldn't expect the slope to move downward until five days after the policy taking effect if masks do reduce the spread of COVID. This model will account for the effect of the mask by visualizing when mask mandates were in effect or not."
   ]
  },
  {
   "cell_type": "markdown",
   "id": "0d811aeb",
   "metadata": {},
   "source": [
    "## 4. How to account for a change in slope over time?\n",
    "\n",
    "One way to display when the changes in slope occur is to use the [ruptures](https://medium.com/dataman-in-ai/finding-the-change-points-in-a-time-series-95a308207012) package. Ruptures will detect when a change of slope occurs and can add these points to the visualization. Below the index is set to date so rupture's points are saved on the date and not the index. The change points in slope will be displayed in the visualization with vertical black lines."
   ]
  },
  {
   "cell_type": "code",
   "execution_count": 50,
   "id": "d29ae56f",
   "metadata": {},
   "outputs": [],
   "source": [
    "data = np.array(meck_cases_by_date['moving_avg_cases'])\n",
    " \n",
    "alg = rpt.Pelt(model='rbf').fit(data)\n",
    "change_loc = alg.predict(pen=10)\n",
    "change_loc = meck_cases_by_date.iloc[change_loc[:-1]].index.to_list()"
   ]
  },
  {
   "cell_type": "markdown",
   "id": "234b9b00",
   "metadata": {},
   "source": [
    "## 5. How can we model different proportions of mask requirements compliance?\n",
    "\n",
    "One way to describe the impact of masking utilizing the New York Times survey data on mask mandate compliance is to create a weight from the data according to the proportion of each response type. Multiply ALWAYS by 1, FREQUENTLY by .75, SOMETIMES .5, RARELY .25, and NEVER by 0. Then sum these values together. This weight will be <1 and can be divided by the coefficient for the mask mandate classification since the impact of masking would be greater than the observed impact due to the people not complying with it. Since I am not training a model in this moment it will not be included in the visualization."
   ]
  },
  {
   "cell_type": "code",
   "execution_count": 45,
   "id": "2b85df21",
   "metadata": {},
   "outputs": [
    {
     "data": {
      "text/html": [
       "<div>\n",
       "<style scoped>\n",
       "    .dataframe tbody tr th:only-of-type {\n",
       "        vertical-align: middle;\n",
       "    }\n",
       "\n",
       "    .dataframe tbody tr th {\n",
       "        vertical-align: top;\n",
       "    }\n",
       "\n",
       "    .dataframe thead th {\n",
       "        text-align: right;\n",
       "    }\n",
       "</style>\n",
       "<table border=\"1\" class=\"dataframe\">\n",
       "  <thead>\n",
       "    <tr style=\"text-align: right;\">\n",
       "      <th></th>\n",
       "      <th>COUNTYFP</th>\n",
       "      <th>NEVER</th>\n",
       "      <th>RARELY</th>\n",
       "      <th>SOMETIMES</th>\n",
       "      <th>FREQUENTLY</th>\n",
       "      <th>ALWAYS</th>\n",
       "    </tr>\n",
       "  </thead>\n",
       "  <tbody>\n",
       "    <tr>\n",
       "      <th>1949</th>\n",
       "      <td>37119</td>\n",
       "      <td>0.029</td>\n",
       "      <td>0.037</td>\n",
       "      <td>0.075</td>\n",
       "      <td>0.166</td>\n",
       "      <td>0.694</td>\n",
       "    </tr>\n",
       "  </tbody>\n",
       "</table>\n",
       "</div>"
      ],
      "text/plain": [
       "      COUNTYFP  NEVER  RARELY  SOMETIMES  FREQUENTLY  ALWAYS\n",
       "1949     37119  0.029   0.037      0.075       0.166   0.694"
      ]
     },
     "execution_count": 45,
     "metadata": {},
     "output_type": "execute_result"
    }
   ],
   "source": [
    "meck_mask"
   ]
  },
  {
   "cell_type": "markdown",
   "id": "1a4c61c1",
   "metadata": {},
   "source": [
    "## 6. How to handle different masking policies?\n",
    "\n",
    "It is true that policies varied in implementation over the course of the pandemic and that the CDC data displaying mask mandates shows the specific mandate being implemented. In the case of Mecklenburg, mask mandates were implemented due to 18 different state executive orders and one state department of health and human services directive. There may be a path to reading through the 19 different citations enforcing a mask mandate for Mecklenburg, categorize each one, and implement the categorizations into the model. The cost for doing this in the scope of the project is prohibitive and I will not be implementing differences in mandates into the model."
   ]
  },
  {
   "cell_type": "code",
   "execution_count": 25,
   "id": "f2aaa064",
   "metadata": {},
   "outputs": [
    {
     "data": {
      "text/plain": [
       "array([nan, 'N.C. Exec. Order No. 147 (June 24, 2020)',\n",
       "       'N.C. Exec. Order No. 151 (July 16, 2020)',\n",
       "       'N.C. Exec. Order No. 155 (Aug. 5, 2020)',\n",
       "       'N.C. Exec. Order No. 163 (Sept. 1, 2020)',\n",
       "       'N.C. Exec. Order No. 169 (Sept. 30, 2020)',\n",
       "       'N.C. Exec. Order No. 170 (Oct. 21, 2020)',\n",
       "       'N.C. Exec. Order No. 176 (Nov. 10, 2020)',\n",
       "       'N.C. Exec. Order No. 180 (Nov. 23, 2020)',\n",
       "       'N.C. Exec. Order No. 181 (Dec. 8, 2020)',\n",
       "       'N.C. Health Directive  (Jan. 6, 2021)',\n",
       "       'N.C. Exec. Order No. 188 (Jan. 6, 2021)',\n",
       "       'N.C. Exec. Order No. 189 (Jan. 27, 2021)',\n",
       "       'N.C. Exec. Order No. 195 (Feb. 24, 2021)',\n",
       "       'N.C. Exec. Order No. 204 (Mar. 23, 2021)',\n",
       "       'N.C. Exec. Order No. 209 (Apr. 28, 2021)',\n",
       "       'N.C. Exec. Order No. 215 (May 14, 2021)',\n",
       "       'N.C. Exec. Order No. 220 (June 11, 2021)',\n",
       "       'N.C. Exec. Order No. 224 (July 29, 2021)'], dtype=object)"
      ]
     },
     "execution_count": 25,
     "metadata": {},
     "output_type": "execute_result"
    }
   ],
   "source": [
    "meck_mand['Citation'].unique()"
   ]
  },
  {
   "cell_type": "markdown",
   "id": "94ab7ad3",
   "metadata": {},
   "source": [
    "## 7. My county did not implement a masking policy? What now?\n",
    "\n",
    "Fortunately masking was mandatory in Mecklenburg due to state orders. This means it is an issue I do not have to face. However, if this was the case I would first consider if I could mark when masking was recommended and categorize those times as the voluntary masking periods. If that was not the case, I would find other counties in the region, and would consider the day a voluntary masking day if over half the counties had mandatory masking and a no mask day if otherwise."
   ]
  },
  {
   "cell_type": "markdown",
   "id": "fe8781ba",
   "metadata": {},
   "source": [
    "## 8. How should we account for different vaccination rates in counties?\n",
    "\n",
    "If we were to have the vaccination rates for the county by day then those rates could be included into the model as well. There would also be worth in evaluating if fully vaccinated rates or fully + partially vaccinated rates are better indicators in impacting new cases. As I cannot readily find this information to incorporate into my model I will not be implementing it."
   ]
  },
  {
   "cell_type": "markdown",
   "id": "e423fa4b",
   "metadata": {},
   "source": [
    "# Visualization"
   ]
  },
  {
   "cell_type": "code",
   "execution_count": 51,
   "id": "d9b8d9fd",
   "metadata": {},
   "outputs": [],
   "source": [
    "meck_cases_by_date = meck_cases_by_date.reset_index()\n",
    "meck_covid = meck_cases_by_date.merge(meck_mand, how='left', on='date')\n",
    "meck_covid = meck_covid.set_index('date')"
   ]
  },
  {
   "cell_type": "code",
   "execution_count": 52,
   "id": "b4e26c4a",
   "metadata": {},
   "outputs": [
    {
     "data": {
      "image/png": "[encoded data removed]",
      "text/plain": [
       "<Figure size 1008x288 with 1 Axes>"
      ]
     },
     "metadata": {
      "needs_background": "light"
     },
     "output_type": "display_data"
    }
   ],
   "source": [
    "red_patch = mpatches.Patch(color='red', label='Mask mandate')\n",
    "blue_patch = mpatches.Patch(color='blue', label='No mandate')\n",
    "black_patch = mpatches.Patch(color='black', label='Change points')\n",
    "plt.figure(figsize=(14,4))\n",
    "for i in range(1,len(meck_covid)):\n",
    "    s = meck_covid.iloc[i-1:i+1]\n",
    "    color = 'r' if s['Face_Masks_Required_in_Public'].eq(1).all() else 'blue'\n",
    "    plt.plot(s['moving_avg_cases'], c=color)\n",
    "for x in change_loc:\n",
    "    plt.axvline(x, lw = 2, color='black')\n",
    "plt.legend(loc=2, ncol=1, handles=[black_patch, red_patch, blue_patch])\n",
    "plt.title('Changes In 7-Day Moving Average of Cases', fontsize=20)\n",
    "plt.xlabel('Date', fontsize=16)\n",
    "plt.ylabel('Cases per 100,000', fontsize=16)\n",
    "plt.savefig('visualizations/change_points.png')"
   ]
  }
 ],
 "metadata": {
  "kernelspec": {
   "display_name": "Python 3 (ipykernel)",
   "language": "python",
   "name": "python3"
  },
  "language_info": {
   "codemirror_mode": {
    "name": "ipython",
    "version": 3
   },
   "file_extension": ".py",
   "mimetype": "text/x-python",
   "name": "python",
   "nbconvert_exporter": "python",
   "pygments_lexer": "ipython3",
   "version": "3.7.1"
  }
 },
 "nbformat": 4,
 "nbformat_minor": 5
}
